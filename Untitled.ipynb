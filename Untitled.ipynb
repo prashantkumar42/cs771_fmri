{
 "cells": [
  {
   "cell_type": "code",
   "execution_count": 1,
   "metadata": {
    "collapsed": true
   },
   "outputs": [],
   "source": [
    "alpha_lasso = [1e-15, 1e-10, 1e-8, 1e-5,1e-4, 1e-3,1e-2, 0.05, 0.2, 0.5, 0.75, 1, 5, 10]"
   ]
  },
  {
   "cell_type": "code",
   "execution_count": 2,
   "metadata": {
    "collapsed": false
   },
   "outputs": [
    {
     "name": "stdout",
     "output_type": "stream",
     "text": [
      "hello: 1e-15\n",
      "hello: 1e-10\n",
      "hello: 1e-08\n",
      "hello: 1e-05\n",
      "hello: 0.0001\n",
      "hello: 0.001\n",
      "hello: 0.01\n",
      "hello: 0.05\n",
      "hello: 0.2\n",
      "hello: 0.5\n",
      "hello: 0.75\n",
      "hello: 1\n",
      "hello: 5\n",
      "hello: 10\n"
     ]
    }
   ],
   "source": [
    "for alpha_cur in alpha_lasso:\n",
    "    print(\"hello: \"+str(alpha_cur-))"
   ]
  },
  {
   "cell_type": "code",
   "execution_count": null,
   "metadata": {
    "collapsed": true
   },
   "outputs": [],
   "source": []
  }
 ],
 "metadata": {
  "kernelspec": {
   "display_name": "Python 3",
   "language": "python",
   "name": "python3"
  },
  "language_info": {
   "codemirror_mode": {
    "name": "ipython",
    "version": 3
   },
   "file_extension": ".py",
   "mimetype": "text/x-python",
   "name": "python",
   "nbconvert_exporter": "python",
   "pygments_lexer": "ipython3",
   "version": "3.5.2"
  }
 },
 "nbformat": 4,
 "nbformat_minor": 1
}
